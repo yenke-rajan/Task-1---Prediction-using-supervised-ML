{
 "cells": [
  {
   "cell_type": "markdown",
   "id": "6ef044a4",
   "metadata": {},
   "source": [
    "#### Name : Nirajan Khatiwada"
   ]
  },
  {
   "cell_type": "markdown",
   "id": "edf924ce",
   "metadata": {},
   "source": [
    "Grip @ The Sparks Foundation"
   ]
  },
  {
   "cell_type": "markdown",
   "id": "9501df8d",
   "metadata": {},
   "source": [
    "Task 1: Prediction using supervised ML"
   ]
  },
  {
   "cell_type": "markdown",
   "id": "e95f5718",
   "metadata": {},
   "source": [
    "# Prediction Using Supervised ML: Linear Regression"
   ]
  },
  {
   "cell_type": "markdown",
   "id": "4ca57b60",
   "metadata": {},
   "source": [
    "#### To do: Predicting the percentage of students based on the number of study hours"
   ]
  },
  {
   "cell_type": "markdown",
   "id": "c494952d",
   "metadata": {},
   "source": [
    "#### Q: What will be the predicted score if student studies for 9.25 hrs/day "
   ]
  },
  {
   "cell_type": "markdown",
   "id": "1ae80574",
   "metadata": {},
   "source": [
    "##### Linear Regression :"
   ]
  },
  {
   "cell_type": "markdown",
   "id": "be807afa",
   "metadata": {},
   "source": [
    "Linear regression is a statistical method used for modeling the relationship between a dependent variable and one or more independent variables by fitting a linear equation to the observed data."
   ]
  },
  {
   "cell_type": "markdown",
   "id": "a06763d6",
   "metadata": {},
   "source": [
    "##### Simple Linear Regression :"
   ]
  },
  {
   "cell_type": "markdown",
   "id": "1e5b2532",
   "metadata": {},
   "source": [
    "Simple linear regression is a statistical technique used for modeling and analyzing the relationship between two variables, specifically a dependent variable and a single independent variable. "
   ]
  },
  {
   "cell_type": "markdown",
   "id": "d54b3f3e",
   "metadata": {},
   "source": [
    "#### 1. Importing Required Libraries"
   ]
  },
  {
   "cell_type": "markdown",
   "id": "9673d854",
   "metadata": {},
   "source": [
    "Firtly, we will need to import the necessary libraries for data manipulation and linear regression."
   ]
  },
  {
   "cell_type": "code",
   "execution_count": 1,
   "id": "4e958fbb",
   "metadata": {},
   "outputs": [],
   "source": [
    "import pandas as pd"
   ]
  },
  {
   "cell_type": "code",
   "execution_count": 2,
   "id": "9fc02f3a",
   "metadata": {},
   "outputs": [],
   "source": [
    "import numpy as np"
   ]
  },
  {
   "cell_type": "code",
   "execution_count": 3,
   "id": "27d237cb",
   "metadata": {},
   "outputs": [],
   "source": [
    "import matplotlib.pyplot as plt"
   ]
  },
  {
   "cell_type": "code",
   "execution_count": 4,
   "id": "08e5dd37",
   "metadata": {},
   "outputs": [],
   "source": [
    "from sklearn.model_selection import train_test_split"
   ]
  },
  {
   "cell_type": "code",
   "execution_count": 5,
   "id": "4d19c60d",
   "metadata": {},
   "outputs": [],
   "source": [
    "from sklearn.linear_model import LinearRegression"
   ]
  },
  {
   "cell_type": "markdown",
   "id": "58b9c8fe",
   "metadata": {},
   "source": [
    "#### 2. Load the required data"
   ]
  },
  {
   "cell_type": "markdown",
   "id": "56663fd2",
   "metadata": {},
   "source": [
    "Loading the provided data into a Pandas DataFrame and exploring it to understand its structure."
   ]
  },
  {
   "cell_type": "code",
   "execution_count": 6,
   "id": "24c283a8",
   "metadata": {},
   "outputs": [],
   "source": [
    "data = pd.read_csv('student_scores.csv')"
   ]
  },
  {
   "cell_type": "markdown",
   "id": "f72ce9b6",
   "metadata": {},
   "source": [
    "Exploring the data structure"
   ]
  },
  {
   "cell_type": "code",
   "execution_count": 7,
   "id": "468c7494",
   "metadata": {},
   "outputs": [
    {
     "name": "stdout",
     "output_type": "stream",
     "text": [
      "   Hours  Scores\n",
      "0    2.5      21\n",
      "1    5.1      47\n",
      "2    3.2      27\n",
      "3    8.5      75\n",
      "4    3.5      30\n"
     ]
    }
   ],
   "source": [
    "print(data.head())"
   ]
  },
  {
   "cell_type": "code",
   "execution_count": 8,
   "id": "a794a9d6",
   "metadata": {},
   "outputs": [
    {
     "data": {
      "text/plain": [
       "(25, 2)"
      ]
     },
     "execution_count": 8,
     "metadata": {},
     "output_type": "execute_result"
    }
   ],
   "source": [
    "data.shape"
   ]
  },
  {
   "cell_type": "markdown",
   "id": "33c5ac7c",
   "metadata": {},
   "source": [
    "#### 3. Visualizing Data"
   ]
  },
  {
   "cell_type": "markdown",
   "id": "e54b77e1",
   "metadata": {},
   "source": [
    "Before building the regression model, let's visualize the data to get a sense of the relationship between study hours and scores."
   ]
  },
  {
   "cell_type": "code",
   "execution_count": 9,
   "id": "332675c8",
   "metadata": {},
   "outputs": [
    {
     "data": {
      "image/png": "[encoded data removed]",
      "text/plain": [
       "<Figure size 640x480 with 1 Axes>"
      ]
     },
     "metadata": {},
     "output_type": "display_data"
    }
   ],
   "source": [
    "plt.scatter(data['Hours'], data['Scores'])\n",
    "plt.title('Hours vs Scores')\n",
    "plt.xlabel('Hours Studied')\n",
    "plt.ylabel('Scores')\n",
    "plt.show()"
   ]
  },
  {
   "cell_type": "markdown",
   "id": "e2221ae1",
   "metadata": {},
   "source": [
    "Since the shape of the line the points appear to be straight we can say that there's a 'positive linear correlation' between the Hours and Scores variables. The corr() method is used to calculate and display the correlations between variables in a DataFrame, to see correlation of DataFrame."
   ]
  },
  {
   "cell_type": "code",
   "execution_count": 10,
   "id": "d8bc0106",
   "metadata": {},
   "outputs": [
    {
     "name": "stdout",
     "output_type": "stream",
     "text": [
      "           Hours    Scores\n",
      "Hours   1.000000  0.976191\n",
      "Scores  0.976191  1.000000\n"
     ]
    }
   ],
   "source": [
    "print(data.corr())"
   ]
  },
  {
   "cell_type": "markdown",
   "id": "114075ae",
   "metadata": {},
   "source": [
    "The output above shows that the variables are highly correlated."
   ]
  },
  {
   "cell_type": "markdown",
   "id": "6149dc97",
   "metadata": {},
   "source": [
    "#### 4.  Preparing Data"
   ]
  },
  {
   "cell_type": "markdown",
   "id": "d72ce2e8",
   "metadata": {},
   "source": [
    "Splitting the data into features (X) and the target variable (y). In this case, 'Hours' will be feature, and 'Scores' will be target variable."
   ]
  },
  {
   "cell_type": "code",
   "execution_count": 11,
   "id": "e209ee7d",
   "metadata": {},
   "outputs": [],
   "source": [
    "X = data['Hours'].values.reshape(-1, 1)\n",
    "y = data['Scores'].values"
   ]
  },
  {
   "cell_type": "markdown",
   "id": "50e890d5",
   "metadata": {},
   "source": [
    "#### 5. Splitting the Data into Training and Testing Sets"
   ]
  },
  {
   "cell_type": "markdown",
   "id": "4b7a68cd",
   "metadata": {},
   "source": [
    "Splitting the dataset into a training set and a testing set. The training set will be used to train the regression model, and the testing set will be used to evaluate its performance."
   ]
  },
  {
   "cell_type": "code",
   "execution_count": 12,
   "id": "2a7f7828",
   "metadata": {},
   "outputs": [],
   "source": [
    "X_train, X_test, y_train, y_test = train_test_split(X, y, test_size=0.2, random_state=42)"
   ]
  },
  {
   "cell_type": "markdown",
   "id": "33e0db83",
   "metadata": {},
   "source": [
    "#### 6. Training the Linear Regression Model"
   ]
  },
  {
   "cell_type": "markdown",
   "id": "157f0e15",
   "metadata": {},
   "source": [
    "Creating and training a linear regression model using the training data."
   ]
  },
  {
   "cell_type": "code",
   "execution_count": 13,
   "id": "8cc188a6",
   "metadata": {},
   "outputs": [
    {
     "data": {
      "text/plain": [
       "LinearRegression()"
      ]
     },
     "execution_count": 13,
     "metadata": {},
     "output_type": "execute_result"
    }
   ],
   "source": [
    "model = LinearRegression()\n",
    "model.fit(X_train, y_train)"
   ]
  },
  {
   "cell_type": "markdown",
   "id": "f4282cef",
   "metadata": {},
   "source": [
    "##### Plotting the regression line"
   ]
  },
  {
   "cell_type": "code",
   "execution_count": 14,
   "id": "e2a8418f",
   "metadata": {},
   "outputs": [
    {
     "data": {
      "image/png": "[encoded data removed]",
      "text/plain": [
       "<Figure size 640x480 with 1 Axes>"
      ]
     },
     "metadata": {},
     "output_type": "display_data"
    }
   ],
   "source": [
    "line = model.coef_*X+model.intercept_\n",
    "\n",
    "# Plotting for the test data\n",
    "plt.scatter(X, y)\n",
    "plt.plot(X, line);\n",
    "plt.show()"
   ]
  },
  {
   "cell_type": "markdown",
   "id": "2c77fea4",
   "metadata": {},
   "source": [
    "#### 7.  Making Predictions"
   ]
  },
  {
   "cell_type": "markdown",
   "id": "538c7f2d",
   "metadata": {},
   "source": [
    "Using the trained model to make predictions on the testing set."
   ]
  },
  {
   "cell_type": "code",
   "execution_count": 16,
   "id": "7e27023c",
   "metadata": {},
   "outputs": [],
   "source": [
    "y_pred = model.predict(X_test)"
   ]
  },
  {
   "cell_type": "markdown",
   "id": "9fc395ec",
   "metadata": {},
   "source": [
    "##### Comparing Actual vs Predicted"
   ]
  },
  {
   "cell_type": "code",
   "execution_count": 17,
   "id": "9587dd29",
   "metadata": {},
   "outputs": [
    {
     "name": "stdout",
     "output_type": "stream",
     "text": [
      "   Actual  Predicted\n",
      "0      81  83.188141\n",
      "1      30  27.032088\n",
      "2      21  27.032088\n",
      "3      76  69.633232\n",
      "4      62  59.951153\n"
     ]
    }
   ],
   "source": [
    "df = pd.DataFrame({'Actual': y_test, 'Predicted': y_pred})\n",
    "print(df)"
   ]
  },
  {
   "cell_type": "markdown",
   "id": "e20e7736",
   "metadata": {},
   "source": [
    "#### 8.  Predicting the Score for 9.25 Hours"
   ]
  },
  {
   "cell_type": "markdown",
   "id": "1218d918",
   "metadata": {},
   "source": [
    "Using the trained model to predict the score for a student who studies for 9.25 hours per day."
   ]
  },
  {
   "cell_type": "code",
   "execution_count": 18,
   "id": "754205d4",
   "metadata": {},
   "outputs": [
    {
     "name": "stdout",
     "output_type": "stream",
     "text": [
      "Predicted score for 9.25 hours of study: 92.38611528261494\n"
     ]
    }
   ],
   "source": [
    "hours = np.array([[9.25]])\n",
    "predicted_score = model.predict(hours)\n",
    "print(f\"Predicted score for 9.25 hours of study: {predicted_score[0]}\")"
   ]
  },
  {
   "cell_type": "code",
   "execution_count": 19,
   "id": "8ef57d33",
   "metadata": {},
   "outputs": [
    {
     "name": "stdout",
     "output_type": "stream",
     "text": [
      "Mean Absolute Error: 3.9207511902099244\n",
      "Mean Squared Error: 18.943211722315272\n",
      "Root Mean Squared Error: 4.352380006653288\n"
     ]
    }
   ],
   "source": [
    "from sklearn import metrics\n",
    "print('Mean Absolute Error:',\n",
    "      metrics.mean_absolute_error(y_test, y_pred))\n",
    "print('Mean Squared Error:',\n",
    "      metrics.mean_squared_error(y_test, y_pred))\n",
    "print('Root Mean Squared Error:',\n",
    "      np.sqrt(metrics.mean_squared_error(y_test, y_pred)))"
   ]
  },
  {
   "cell_type": "markdown",
   "id": "4b93bda2",
   "metadata": {},
   "source": [
    "From above result the error percentage is satisfactory, of about 4.35%. So, we the conclusion is that the number of study hours is directly proportional to the student scores. \n",
    "\n",
    "And the predicted score of student who studies 9.25 is about 92.38%."
   ]
  },
  {
   "cell_type": "code",
   "execution_count": null,
   "id": "b3a1c1da",
   "metadata": {},
   "outputs": [],
   "source": []
  }
 ],
 "metadata": {
  "kernelspec": {
   "display_name": "Python 3 (ipykernel)",
   "language": "python",
   "name": "python3"
  },
  "language_info": {
   "codemirror_mode": {
    "name": "ipython",
    "version": 3
   },
   "file_extension": ".py",
   "mimetype": "text/x-python",
   "name": "python",
   "nbconvert_exporter": "python",
   "pygments_lexer": "ipython3",
   "version": "3.9.13"
  }
 },
 "nbformat": 4,
 "nbformat_minor": 5
}
